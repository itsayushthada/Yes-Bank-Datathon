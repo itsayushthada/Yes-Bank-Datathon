{
 "cells": [
  {
   "cell_type": "code",
   "execution_count": 1,
   "metadata": {
    "scrolled": true
   },
   "outputs": [
    {
     "name": "stderr",
     "output_type": "stream",
     "text": [
      "/usr/local/lib/python3.6/dist-packages/ggplot/utils.py:81: FutureWarning: pandas.tslib is deprecated and will be removed in a future version.\n",
      "You can access Timestamp as pandas.Timestamp\n",
      "  pd.tslib.Timestamp,\n"
     ]
    }
   ],
   "source": [
    "import pandas as pd\n",
    "import numpy as np\n",
    "from ggplot import *\n",
    "import seaborn as sns\n",
    "from collections import Counter\n",
    "import matplotlib.pyplot as plt\n",
    "\n",
    "%matplotlib inline"
   ]
  },
  {
   "cell_type": "code",
   "execution_count": 2,
   "metadata": {
    "scrolled": true
   },
   "outputs": [],
   "source": [
    "train_df = pd.read_csv(\"Yes_Bank_Train.csv\",)\n",
    "test_df = pd.read_csv(\"Yes_Bank_Test_Data.csv\")\n",
    "sample = pd.read_csv(\"Yes_Bank_sample_submission.csv\")"
   ]
  },
  {
   "cell_type": "code",
   "execution_count": 3,
   "metadata": {
    "scrolled": true
   },
   "outputs": [
    {
     "name": "stdout",
     "output_type": "stream",
     "text": [
      "Train Set Shape: (17773, 56)\n",
      "Test Set Shape: (7621, 48)\n"
     ]
    }
   ],
   "source": [
    "print(\"Train Set Shape: {}\".format(train_df.shape))\n",
    "print(\"Test Set Shape: {}\".format(test_df.shape))"
   ]
  },
  {
   "cell_type": "markdown",
   "metadata": {},
   "source": [
    "# Removing Attributes with completly different or uniform distribution"
   ]
  },
  {
   "cell_type": "code",
   "execution_count": 4,
   "metadata": {},
   "outputs": [],
   "source": [
    "train_df = train_df.drop(labels=\"fund_symbol\", axis=1)\n",
    "train_df = train_df.drop(labels=\"fund_name\", axis=1)\n",
    "train_df = train_df.drop(labels=\"currency\", axis=1)\n",
    "\n",
    "test_df = test_df.drop(labels=\"fund_symbol\", axis=1)\n",
    "test_df = test_df.drop(labels=\"fund_name\", axis=1)\n",
    "test_df = test_df.drop(labels=\"currency\", axis=1)"
   ]
  },
  {
   "cell_type": "markdown",
   "metadata": {},
   "source": [
    "# Data Cleaning [Categeorical Values]"
   ]
  },
  {
   "cell_type": "code",
   "execution_count": 5,
   "metadata": {
    "scrolled": true
   },
   "outputs": [],
   "source": [
    "nominal = train_df.describe().columns\n",
    "all_attr = train_df.columns\n",
    "categeory = [x for x in all_attr if x not in nominal]"
   ]
  },
  {
   "cell_type": "code",
   "execution_count": 6,
   "metadata": {
    "scrolled": true
   },
   "outputs": [
    {
     "data": {
      "text/plain": [
       "['category', 'fund_family', 'investment', 'size', 'inception_date']"
      ]
     },
     "execution_count": 6,
     "metadata": {},
     "output_type": "execute_result"
    }
   ],
   "source": [
    "categeory"
   ]
  },
  {
   "cell_type": "code",
   "execution_count": 7,
   "metadata": {
    "scrolled": true
   },
   "outputs": [
    {
     "name": "stdout",
     "output_type": "stream",
     "text": [
      "category: 108\n",
      "fund_family: 587\n",
      "investment: 4\n",
      "size: 4\n",
      "inception_date: 3418\n"
     ]
    }
   ],
   "source": [
    "for x in categeory:\n",
    "    print(\"{}: {}\".format(x, len(set(train_df[x]))))"
   ]
  },
  {
   "cell_type": "code",
   "execution_count": 8,
   "metadata": {
    "scrolled": true
   },
   "outputs": [
    {
     "name": "stdout",
     "output_type": "stream",
     "text": [
      "Missing Values in Categorical Attributes\n",
      "category: 0\n",
      "fund_family: 0\n",
      "investment: 990\n",
      "size: 990\n",
      "inception_date: 0\n"
     ]
    }
   ],
   "source": [
    "print(\"Missing Values in Categorical Attributes\")\n",
    "for col in categeory:\n",
    "    print(\"{}: {}\".format(col, train_df[col].isna().sum()))"
   ]
  },
  {
   "cell_type": "code",
   "execution_count": 9,
   "metadata": {
    "scrolled": true
   },
   "outputs": [],
   "source": [
    "# This has removed those records where categorical values were missed.\n",
    "\n",
    "train_df = train_df[~train_df[\"investment\"].isna()]"
   ]
  },
  {
   "cell_type": "code",
   "execution_count": 10,
   "metadata": {
    "scrolled": true
   },
   "outputs": [
    {
     "name": "stdout",
     "output_type": "stream",
     "text": [
      "Missing Values in Categorical Attributes in Train DataSet\n",
      "category: 0\n",
      "fund_family: 0\n",
      "investment: 0\n",
      "size: 0\n",
      "inception_date: 0\n"
     ]
    }
   ],
   "source": [
    "print(\"Missing Values in Categorical Attributes in Train DataSet\")\n",
    "for col in categeory:\n",
    "    print(\"{}: {}\".format(col, train_df[col].isna().sum()))"
   ]
  },
  {
   "cell_type": "code",
   "execution_count": null,
   "metadata": {},
   "outputs": [],
   "source": []
  },
  {
   "cell_type": "code",
   "execution_count": 11,
   "metadata": {},
   "outputs": [
    {
     "name": "stdout",
     "output_type": "stream",
     "text": [
      "category: 110\n",
      "fund_family: 312\n",
      "investment: 4\n",
      "size: 4\n",
      "inception_date: 2110\n"
     ]
    }
   ],
   "source": [
    "for x in categeory:\n",
    "    print(\"{}: {}\".format(x, len(set(test_df[x]))))"
   ]
  },
  {
   "cell_type": "code",
   "execution_count": 12,
   "metadata": {},
   "outputs": [
    {
     "name": "stdout",
     "output_type": "stream",
     "text": [
      "Missing Values in Categorical Attributes in Test DataSet\n",
      "category: 0\n",
      "fund_family: 0\n",
      "investment: 560\n",
      "size: 560\n",
      "inception_date: 0\n"
     ]
    }
   ],
   "source": [
    "print(\"Missing Values in Categorical Attributes in Test DataSet\")\n",
    "for col in categeory:\n",
    "    print(\"{}: {}\".format(col, test_df[col].isna().sum()))"
   ]
  },
  {
   "cell_type": "code",
   "execution_count": 13,
   "metadata": {},
   "outputs": [],
   "source": [
    "test_df[\"size\"] = [np.random.choice(list(set(test_df[\"size\"]))[1:])  if test_df[\"size\"][x] is np.nan  else test_df[\"size\"][x] for x in range(test_df.shape[0])]"
   ]
  },
  {
   "cell_type": "code",
   "execution_count": 14,
   "metadata": {},
   "outputs": [],
   "source": [
    "test_df[\"investment\"] = [np.random.choice(list(set(test_df[\"investment\"]))[1:])  if test_df[\"investment\"][x] is np.nan  else test_df[\"investment\"][x] for x in range(test_df.shape[0])]"
   ]
  },
  {
   "cell_type": "markdown",
   "metadata": {},
   "source": [
    "# Data Cleaning [Nominal Values]"
   ]
  },
  {
   "cell_type": "code",
   "execution_count": 15,
   "metadata": {
    "scrolled": false
   },
   "outputs": [
    {
     "name": "stdout",
     "output_type": "stream",
     "text": [
      "Missing Values in Nominal Attributes\n",
      "Serial Number: 0\n",
      "total_net_assets: 0\n",
      "net_annual_expenses_ratio: 12\n",
      "morningstar_rating: 0\n",
      "portfolio_cash: 4\n",
      "portfolio_stocks: 4\n",
      "portfolio_bonds: 4\n",
      "portfolio_others: 4\n",
      "portfolio_preferred: 4\n",
      "portfolio_convertable: 4\n",
      "sectors_basic_materials: 4\n",
      "sectors_consumer_cyclical: 4\n",
      "sectors_financial_services: 4\n",
      "sectors_real_estate: 4\n",
      "sectors_consumer_defensive: 4\n",
      "sectors_healthcare: 4\n",
      "sectors_utilities: 4\n",
      "sectors_communication_services: 4\n",
      "sectors_energy: 4\n",
      "sectors_industrials: 4\n",
      "sectors_technology: 4\n",
      "price_earning: 4\n",
      "bonds_us_government: 4\n",
      "bonds_aaa: 4\n",
      "bonds_aa: 4\n",
      "bonds_a: 4\n",
      "bonds_bbb: 4\n",
      "bonds_bb: 4\n",
      "bonds_b: 4\n",
      "bonds_below_b: 4\n",
      "bonds_others: 4\n",
      "morningstar_return_rating: 0\n",
      "returns_ytd: 93\n",
      "returns_2017: 1715\n",
      "returns_2016: 2664\n",
      "returns_2015: 3769\n",
      "returns_2014: 4808\n",
      "returns_2013: 5870\n",
      "returns_2012: 6881\n",
      "returns_2011: 7668\n",
      "returns_2010: 8440\n",
      "morningstar_risk_rating: 0\n",
      "alpha_3y: 1631\n",
      "beta_3y: 1631\n",
      "mean_annual_return_3y: 1631\n",
      "standard_deviation_3y: 1631\n",
      "sharpe_ratio_3y: 1631\n",
      "treynor_ratio_3y: 1631\n"
     ]
    }
   ],
   "source": [
    "print(\"Missing Values in Nominal Attributes\")\n",
    "for col in nominal:\n",
    "    print(\"{}: {}\".format(col, train_df[col].isna().sum()))"
   ]
  },
  {
   "cell_type": "code",
   "execution_count": 16,
   "metadata": {
    "scrolled": true
   },
   "outputs": [],
   "source": [
    "# This has removed those records where most of the values were null for a record.\n",
    "\n",
    "train_df = train_df[~train_df[\"portfolio_cash\"].isna()]\n",
    "train_df = train_df[~train_df[\"net_annual_expenses_ratio\"].isna()]"
   ]
  },
  {
   "cell_type": "code",
   "execution_count": 17,
   "metadata": {
    "scrolled": false
   },
   "outputs": [
    {
     "name": "stdout",
     "output_type": "stream",
     "text": [
      "Missing Values in Nominal Attributes in Train Set\n",
      "Serial Number: 0\n",
      "total_net_assets: 0\n",
      "net_annual_expenses_ratio: 0\n",
      "morningstar_rating: 0\n",
      "portfolio_cash: 0\n",
      "portfolio_stocks: 0\n",
      "portfolio_bonds: 0\n",
      "portfolio_others: 0\n",
      "portfolio_preferred: 0\n",
      "portfolio_convertable: 0\n",
      "sectors_basic_materials: 0\n",
      "sectors_consumer_cyclical: 0\n",
      "sectors_financial_services: 0\n",
      "sectors_real_estate: 0\n",
      "sectors_consumer_defensive: 0\n",
      "sectors_healthcare: 0\n",
      "sectors_utilities: 0\n",
      "sectors_communication_services: 0\n",
      "sectors_energy: 0\n",
      "sectors_industrials: 0\n",
      "sectors_technology: 0\n",
      "price_earning: 0\n",
      "bonds_us_government: 0\n",
      "bonds_aaa: 0\n",
      "bonds_aa: 0\n",
      "bonds_a: 0\n",
      "bonds_bbb: 0\n",
      "bonds_bb: 0\n",
      "bonds_b: 0\n",
      "bonds_below_b: 0\n",
      "bonds_others: 0\n",
      "morningstar_return_rating: 0\n",
      "returns_ytd: 92\n",
      "returns_2017: 1702\n",
      "returns_2016: 2651\n",
      "returns_2015: 3756\n",
      "returns_2014: 4795\n",
      "returns_2013: 5857\n",
      "returns_2012: 6868\n",
      "returns_2011: 7655\n",
      "returns_2010: 8427\n",
      "morningstar_risk_rating: 0\n",
      "alpha_3y: 1618\n",
      "beta_3y: 1618\n",
      "mean_annual_return_3y: 1618\n",
      "standard_deviation_3y: 1618\n",
      "sharpe_ratio_3y: 1618\n",
      "treynor_ratio_3y: 1618\n"
     ]
    }
   ],
   "source": [
    "print(\"Missing Values in Nominal Attributes in Train Set\")\n",
    "for col in nominal:\n",
    "    print(\"{}: {}\".format(col, train_df[col].isna().sum()))"
   ]
  },
  {
   "cell_type": "code",
   "execution_count": 18,
   "metadata": {},
   "outputs": [],
   "source": [
    "for col in nominal:\n",
    "    if train_df[col].isna().sum() != 0:\n",
    "        train_df[col] = train_df[col].interpolate(method=\"piecewise_polynomial\")"
   ]
  },
  {
   "cell_type": "code",
   "execution_count": 19,
   "metadata": {},
   "outputs": [
    {
     "name": "stdout",
     "output_type": "stream",
     "text": [
      "Missing Values in Nominal Attributes\n",
      "Serial Number: 0\n",
      "total_net_assets: 0\n",
      "net_annual_expenses_ratio: 0\n",
      "morningstar_rating: 0\n",
      "portfolio_cash: 0\n",
      "portfolio_stocks: 0\n",
      "portfolio_bonds: 0\n",
      "portfolio_others: 0\n",
      "portfolio_preferred: 0\n",
      "portfolio_convertable: 0\n",
      "sectors_basic_materials: 0\n",
      "sectors_consumer_cyclical: 0\n",
      "sectors_financial_services: 0\n",
      "sectors_real_estate: 0\n",
      "sectors_consumer_defensive: 0\n",
      "sectors_healthcare: 0\n",
      "sectors_utilities: 0\n",
      "sectors_communication_services: 0\n",
      "sectors_energy: 0\n",
      "sectors_industrials: 0\n",
      "sectors_technology: 0\n",
      "price_earning: 0\n",
      "bonds_us_government: 0\n",
      "bonds_aaa: 0\n",
      "bonds_aa: 0\n",
      "bonds_a: 0\n",
      "bonds_bbb: 0\n",
      "bonds_bb: 0\n",
      "bonds_b: 0\n",
      "bonds_below_b: 0\n",
      "bonds_others: 0\n",
      "morningstar_return_rating: 0\n",
      "returns_ytd: 0\n",
      "returns_2017: 0\n",
      "returns_2016: 0\n",
      "returns_2015: 6\n",
      "returns_2014: 10\n",
      "returns_2013: 10\n",
      "returns_2012: 10\n",
      "returns_2011: 10\n",
      "returns_2010: 10\n",
      "morningstar_risk_rating: 0\n",
      "alpha_3y: 0\n",
      "beta_3y: 0\n",
      "mean_annual_return_3y: 0\n",
      "standard_deviation_3y: 0\n",
      "sharpe_ratio_3y: 0\n",
      "treynor_ratio_3y: 0\n"
     ]
    }
   ],
   "source": [
    "print(\"Missing Values in Nominal Attributes\")\n",
    "for col in nominal:\n",
    "    print(\"{}: {}\".format(col, train_df[col].isna().sum()))"
   ]
  },
  {
   "cell_type": "code",
   "execution_count": 20,
   "metadata": {},
   "outputs": [],
   "source": [
    "for col in nominal:\n",
    "    if train_df[col].isna().sum() != 0:\n",
    "        train_df[col] = train_df[col].interpolate(method = \"linear\")"
   ]
  },
  {
   "cell_type": "code",
   "execution_count": null,
   "metadata": {},
   "outputs": [],
   "source": []
  },
  {
   "cell_type": "code",
   "execution_count": 21,
   "metadata": {},
   "outputs": [
    {
     "name": "stdout",
     "output_type": "stream",
     "text": [
      "Missing Values in Nominal Attributes in Test Set\n",
      "Serial Number: 0\n",
      "total_net_assets: 0\n",
      "net_annual_expenses_ratio: 4\n",
      "morningstar_rating: 0\n",
      "portfolio_cash: 3\n",
      "portfolio_stocks: 3\n",
      "portfolio_bonds: 3\n",
      "portfolio_others: 3\n",
      "portfolio_preferred: 3\n",
      "portfolio_convertable: 3\n",
      "sectors_basic_materials: 3\n",
      "sectors_consumer_cyclical: 3\n",
      "sectors_financial_services: 3\n",
      "sectors_real_estate: 3\n",
      "sectors_consumer_defensive: 3\n",
      "sectors_healthcare: 3\n",
      "sectors_utilities: 3\n",
      "sectors_communication_services: 3\n",
      "sectors_energy: 3\n",
      "sectors_industrials: 3\n",
      "sectors_technology: 3\n",
      "price_earning: 3\n",
      "bonds_us_government: 3\n",
      "morningstar_return_rating: 0\n",
      "returns_ytd: 22\n",
      "returns_2017: 782\n",
      "returns_2016: 1369\n",
      "returns_2015: 1963\n",
      "returns_2014: 2401\n",
      "returns_2013: 2696\n",
      "returns_2012: 3062\n",
      "returns_2011: 3283\n",
      "returns_2010: 3568\n",
      "morningstar_risk_rating: 0\n",
      "alpha_3y: 787\n",
      "beta_3y: 787\n",
      "mean_annual_return_3y: 787\n",
      "standard_deviation_3y: 787\n",
      "sharpe_ratio_3y: 787\n",
      "treynor_ratio_3y: 787\n"
     ]
    }
   ],
   "source": [
    "print(\"Missing Values in Nominal Attributes in Test Set\")\n",
    "\n",
    "nominal_test = [x for x in test_df.columns if x not in categeory]\n",
    "for col in nominal_test:\n",
    "    print(\"{}: {}\".format(col, test_df[col].isna().sum()))"
   ]
  },
  {
   "cell_type": "code",
   "execution_count": 22,
   "metadata": {},
   "outputs": [],
   "source": [
    "for col in nominal_test:\n",
    "    if test_df[col].isna().sum() != 0:\n",
    "        test_df[col] = test_df[col].interpolate(method=\"piecewise_polynomial\")"
   ]
  },
  {
   "cell_type": "code",
   "execution_count": 23,
   "metadata": {},
   "outputs": [
    {
     "name": "stdout",
     "output_type": "stream",
     "text": [
      "Missing Values in Nominal Attributes in Test Set\n",
      "Serial Number: 0\n",
      "total_net_assets: 0\n",
      "net_annual_expenses_ratio: 0\n",
      "morningstar_rating: 0\n",
      "portfolio_cash: 0\n",
      "portfolio_stocks: 0\n",
      "portfolio_bonds: 0\n",
      "portfolio_others: 0\n",
      "portfolio_preferred: 0\n",
      "portfolio_convertable: 0\n",
      "sectors_basic_materials: 0\n",
      "sectors_consumer_cyclical: 0\n",
      "sectors_financial_services: 0\n",
      "sectors_real_estate: 0\n",
      "sectors_consumer_defensive: 0\n",
      "sectors_healthcare: 0\n",
      "sectors_utilities: 0\n",
      "sectors_communication_services: 0\n",
      "sectors_energy: 0\n",
      "sectors_industrials: 0\n",
      "sectors_technology: 0\n",
      "price_earning: 0\n",
      "bonds_us_government: 0\n",
      "morningstar_return_rating: 0\n",
      "returns_ytd: 0\n",
      "returns_2017: 0\n",
      "returns_2016: 0\n",
      "returns_2015: 7\n",
      "returns_2014: 8\n",
      "returns_2013: 8\n",
      "returns_2012: 8\n",
      "returns_2011: 9\n",
      "returns_2010: 9\n",
      "morningstar_risk_rating: 0\n",
      "alpha_3y: 4\n",
      "beta_3y: 4\n",
      "mean_annual_return_3y: 4\n",
      "standard_deviation_3y: 4\n",
      "sharpe_ratio_3y: 4\n",
      "treynor_ratio_3y: 4\n"
     ]
    }
   ],
   "source": [
    "print(\"Missing Values in Nominal Attributes in Test Set\")\n",
    "\n",
    "nominal_test = [x for x in test_df.columns if x not in categeory]\n",
    "for col in nominal_test:\n",
    "    print(\"{}: {}\".format(col, test_df[col].isna().sum()))"
   ]
  },
  {
   "cell_type": "code",
   "execution_count": 24,
   "metadata": {},
   "outputs": [],
   "source": [
    "for col in nominal_test:\n",
    "    if test_df[col].isna().sum() != 0:\n",
    "        test_df[col] = test_df[col].interpolate(method = \"linear\")"
   ]
  },
  {
   "cell_type": "code",
   "execution_count": 25,
   "metadata": {},
   "outputs": [
    {
     "name": "stdout",
     "output_type": "stream",
     "text": [
      "Missing Values in Nominal Attributes in Test Set\n",
      "Serial Number: 0\n",
      "total_net_assets: 0\n",
      "net_annual_expenses_ratio: 0\n",
      "morningstar_rating: 0\n",
      "portfolio_cash: 0\n",
      "portfolio_stocks: 0\n",
      "portfolio_bonds: 0\n",
      "portfolio_others: 0\n",
      "portfolio_preferred: 0\n",
      "portfolio_convertable: 0\n",
      "sectors_basic_materials: 0\n",
      "sectors_consumer_cyclical: 0\n",
      "sectors_financial_services: 0\n",
      "sectors_real_estate: 0\n",
      "sectors_consumer_defensive: 0\n",
      "sectors_healthcare: 0\n",
      "sectors_utilities: 0\n",
      "sectors_communication_services: 0\n",
      "sectors_energy: 0\n",
      "sectors_industrials: 0\n",
      "sectors_technology: 0\n",
      "price_earning: 0\n",
      "bonds_us_government: 0\n",
      "morningstar_return_rating: 0\n",
      "returns_ytd: 0\n",
      "returns_2017: 0\n",
      "returns_2016: 0\n",
      "returns_2015: 3\n",
      "returns_2014: 3\n",
      "returns_2013: 3\n",
      "returns_2012: 3\n",
      "returns_2011: 3\n",
      "returns_2010: 3\n",
      "morningstar_risk_rating: 0\n",
      "alpha_3y: 0\n",
      "beta_3y: 0\n",
      "mean_annual_return_3y: 0\n",
      "standard_deviation_3y: 0\n",
      "sharpe_ratio_3y: 0\n",
      "treynor_ratio_3y: 0\n"
     ]
    }
   ],
   "source": [
    "print(\"Missing Values in Nominal Attributes in Test Set\")\n",
    "\n",
    "for col in nominal_test:\n",
    "    print(\"{}: {}\".format(col, test_df[col].isna().sum()))"
   ]
  },
  {
   "cell_type": "code",
   "execution_count": 26,
   "metadata": {},
   "outputs": [],
   "source": [
    "end_attr = [x for x in test_df.columns if test_df[x].isna().sum()]"
   ]
  },
  {
   "cell_type": "code",
   "execution_count": 27,
   "metadata": {},
   "outputs": [
    {
     "name": "stderr",
     "output_type": "stream",
     "text": [
      "/home/ayush/.local/lib/python3.6/site-packages/ipykernel_launcher.py:4: FutureWarning: set_value is deprecated and will be removed in a future release. Please use .at[] or .iat[] accessors instead\n",
      "  after removing the cwd from sys.path.\n"
     ]
    }
   ],
   "source": [
    "#Those values which can't be interpolated are filled with mean value of the column\n",
    "\n",
    "for x in end_attr:\n",
    "    test_df.set_value(test_df[x].isna(), x, test_df[x].mean())"
   ]
  },
  {
   "cell_type": "markdown",
   "metadata": {},
   "source": [
    "# Assigining Numerical Labels to Categeorical Values"
   ]
  },
  {
   "cell_type": "code",
   "execution_count": 28,
   "metadata": {},
   "outputs": [],
   "source": [
    "class LabelEncoder:\n",
    "    def __init__(self):\n",
    "        self.count = 0\n",
    "        self.labels = {}\n",
    "        \n",
    "    def fit(self, y):\n",
    "        for x in list(set(y)):\n",
    "            self.labels[x] = self.count\n",
    "            self.count +=1\n",
    "    \n",
    "    def transform(self, y):\n",
    "        mask = [x in list(self.labels.keys()) for x in y]\n",
    "        \n",
    "        for i in range(len(y)):\n",
    "            if mask[i] is True:\n",
    "                y[i] = self.labels[y[i]]\n",
    "            else:\n",
    "                self.labels[y[i]] = self.count\n",
    "                y[i] = self.labels[y[i]]\n",
    "                mask[i] = True\n",
    "                self.count += 1\n",
    "        return y"
   ]
  },
  {
   "cell_type": "code",
   "execution_count": 29,
   "metadata": {},
   "outputs": [],
   "source": [
    "train_df_cp = train_df.copy(deep=True)"
   ]
  },
  {
   "cell_type": "code",
   "execution_count": 30,
   "metadata": {},
   "outputs": [],
   "source": [
    "cache_mapping = {}\n",
    "for x in categeory:\n",
    "    mapping = LabelEncoder()\n",
    "    cache_mapping[x] = mapping\n",
    "    mapping.fit(train_df[x].values)\n",
    "    train_df[x] = mapping.transform(train_df[x].values)"
   ]
  },
  {
   "cell_type": "code",
   "execution_count": 31,
   "metadata": {},
   "outputs": [],
   "source": [
    "for x in categeory:\n",
    "    mapping = cache_mapping[x]\n",
    "    test_df[x] = mapping.transform(test_df[x].values)"
   ]
  },
  {
   "cell_type": "markdown",
   "metadata": {},
   "source": [
    "   # Feathure Selection Stage 1"
   ]
  },
  {
   "cell_type": "code",
   "execution_count": 32,
   "metadata": {},
   "outputs": [],
   "source": [
    "test_cols = test_df.columns"
   ]
  },
  {
   "cell_type": "code",
   "execution_count": 33,
   "metadata": {},
   "outputs": [
    {
     "data": {
      "text/plain": [
       "['bonds_aaa',\n",
       " 'bonds_aa',\n",
       " 'bonds_a',\n",
       " 'bonds_bbb',\n",
       " 'bonds_bb',\n",
       " 'bonds_b',\n",
       " 'bonds_below_b',\n",
       " 'bonds_others']"
      ]
     },
     "execution_count": 33,
     "metadata": {},
     "output_type": "execute_result"
    }
   ],
   "source": [
    "xtra_attr = [col for col in all_attr if col not in test_cols]\n",
    "xtra_attr"
   ]
  },
  {
   "cell_type": "code",
   "execution_count": 34,
   "metadata": {
    "scrolled": false
   },
   "outputs": [],
   "source": [
    "Y = train_df[\"bonds_aaa\"].values"
   ]
  },
  {
   "cell_type": "code",
   "execution_count": 35,
   "metadata": {},
   "outputs": [],
   "source": [
    "for col in xtra_attr:\n",
    "    train_df = train_df.drop(labels=col, axis=1)"
   ]
  },
  {
   "cell_type": "code",
   "execution_count": 36,
   "metadata": {},
   "outputs": [],
   "source": [
    "X = train_df.values"
   ]
  },
  {
   "cell_type": "code",
   "execution_count": 37,
   "metadata": {},
   "outputs": [],
   "source": [
    "X_FIN_TEST = test_df.values"
   ]
  },
  {
   "cell_type": "code",
   "execution_count": 38,
   "metadata": {},
   "outputs": [
    {
     "data": {
      "text/plain": [
       "(16767, 45)"
      ]
     },
     "execution_count": 38,
     "metadata": {},
     "output_type": "execute_result"
    }
   ],
   "source": [
    "X.shape"
   ]
  },
  {
   "cell_type": "code",
   "execution_count": 39,
   "metadata": {},
   "outputs": [
    {
     "data": {
      "text/plain": [
       "(7621, 45)"
      ]
     },
     "execution_count": 39,
     "metadata": {},
     "output_type": "execute_result"
    }
   ],
   "source": [
    "X_FIN_TEST.shape"
   ]
  },
  {
   "cell_type": "markdown",
   "metadata": {},
   "source": [
    "# Normalization"
   ]
  },
  {
   "cell_type": "code",
   "execution_count": 40,
   "metadata": {},
   "outputs": [],
   "source": [
    "from sklearn.preprocessing import StandardScaler"
   ]
  },
  {
   "cell_type": "code",
   "execution_count": 41,
   "metadata": {},
   "outputs": [
    {
     "name": "stderr",
     "output_type": "stream",
     "text": [
      "/home/ayush/.local/lib/python3.6/site-packages/sklearn/utils/validation.py:475: DataConversionWarning: Data with input dtype object was converted to float64 by StandardScaler.\n",
      "  warnings.warn(msg, DataConversionWarning)\n",
      "/home/ayush/.local/lib/python3.6/site-packages/sklearn/utils/validation.py:475: DataConversionWarning: Data with input dtype object was converted to float64 by StandardScaler.\n",
      "  warnings.warn(msg, DataConversionWarning)\n"
     ]
    }
   ],
   "source": [
    "std_x = StandardScaler()\n",
    "X_std = std_x.fit_transform(X)"
   ]
  },
  {
   "cell_type": "code",
   "execution_count": 42,
   "metadata": {},
   "outputs": [],
   "source": [
    "std_y = StandardScaler()\n",
    "Y_std = std_y.fit_transform(Y.reshape(1, -1))"
   ]
  },
  {
   "cell_type": "code",
   "execution_count": 43,
   "metadata": {},
   "outputs": [
    {
     "name": "stderr",
     "output_type": "stream",
     "text": [
      "/home/ayush/.local/lib/python3.6/site-packages/sklearn/utils/validation.py:475: DataConversionWarning: Data with input dtype object was converted to float64 by StandardScaler.\n",
      "  warnings.warn(msg, DataConversionWarning)\n"
     ]
    }
   ],
   "source": [
    "X_FIN_std = std_x.transform(X_FIN_TEST)"
   ]
  },
  {
   "cell_type": "markdown",
   "metadata": {},
   "source": [
    "# Feathure Selection Stage 2"
   ]
  },
  {
   "cell_type": "code",
   "execution_count": 44,
   "metadata": {},
   "outputs": [],
   "source": [
    "from sklearn.decomposition import PCA"
   ]
  },
  {
   "cell_type": "code",
   "execution_count": 45,
   "metadata": {},
   "outputs": [],
   "source": [
    "pca_x = PCA()"
   ]
  },
  {
   "cell_type": "code",
   "execution_count": 46,
   "metadata": {},
   "outputs": [
    {
     "data": {
      "text/plain": [
       "PCA(copy=True, iterated_power='auto', n_components=None, random_state=None,\n",
       "  svd_solver='auto', tol=0.0, whiten=False)"
      ]
     },
     "execution_count": 46,
     "metadata": {},
     "output_type": "execute_result"
    }
   ],
   "source": [
    "pca_x.fit(X_std)"
   ]
  },
  {
   "cell_type": "code",
   "execution_count": 47,
   "metadata": {},
   "outputs": [
    {
     "data": {
      "text/plain": [
       "array([0.17, 0.08, 0.06, 0.04, 0.04, 0.04, 0.04, 0.03, 0.03, 0.03, 0.03,\n",
       "       0.02, 0.02, 0.02, 0.02, 0.02, 0.02, 0.02, 0.02, 0.02, 0.02, 0.02,\n",
       "       0.02, 0.02, 0.02, 0.01, 0.01, 0.01, 0.01, 0.01, 0.01, 0.01, 0.01,\n",
       "       0.01, 0.01, 0.01, 0.01, 0.01, 0.  , 0.  , 0.  , 0.  , 0.  , 0.  ,\n",
       "       0.  ])"
      ]
     },
     "execution_count": 47,
     "metadata": {},
     "output_type": "execute_result"
    }
   ],
   "source": [
    "pca_x.explained_variance_ratio_.round(decimals=2)"
   ]
  },
  {
   "cell_type": "code",
   "execution_count": 48,
   "metadata": {},
   "outputs": [],
   "source": [
    "X_ = X_std[:,:-10]"
   ]
  },
  {
   "cell_type": "code",
   "execution_count": 49,
   "metadata": {},
   "outputs": [],
   "source": [
    "X_FIN_TEST_ = X_FIN_std[:,:-10]"
   ]
  },
  {
   "cell_type": "code",
   "execution_count": 50,
   "metadata": {},
   "outputs": [],
   "source": [
    "def transform(Y_cat):\n",
    "\n",
    "    for i in range(len(Y_cat)):\n",
    "        if Y_cat[i] <50:\n",
    "            Y_cat[i] = 0\n",
    "        elif Y_cat[i] >=100:\n",
    "            Y_cat[i] = 2\n",
    "        else:\n",
    "            Y_cat[i] = 1\n",
    "    return Y_cat.astype(np.int16)"
   ]
  },
  {
   "cell_type": "markdown",
   "metadata": {},
   "source": [
    "# Data Splitting"
   ]
  },
  {
   "cell_type": "code",
   "execution_count": 51,
   "metadata": {},
   "outputs": [],
   "source": [
    "from sklearn.model_selection import train_test_split"
   ]
  },
  {
   "cell_type": "code",
   "execution_count": 52,
   "metadata": {},
   "outputs": [],
   "source": [
    "X_train, X_test, y_train, y_test = train_test_split(X_, Y, test_size=0.33, random_state=42, shuffle=True)"
   ]
  },
  {
   "cell_type": "markdown",
   "metadata": {},
   "source": [
    "# Machine Learning"
   ]
  },
  {
   "cell_type": "code",
   "execution_count": 53,
   "metadata": {},
   "outputs": [],
   "source": [
    "from sklearn.neural_network import MLPClassifier, MLPRegressor\n",
    "from sklearn.metrics import accuracy_score, mean_squared_error"
   ]
  },
  {
   "cell_type": "code",
   "execution_count": 55,
   "metadata": {},
   "outputs": [
    {
     "name": "stdout",
     "output_type": "stream",
     "text": [
      "For 0\n",
      "Accuracy Score 0.946331767256957\n",
      "Mean Squared Error: 0.06125767979761475\n",
      "\n"
     ]
    }
   ],
   "source": [
    "#for _ in range(20): \n",
    "\n",
    "regressor = MLPRegressor(hidden_layer_sizes=(91,20,), activation=\"relu\", max_iter=500, random_state=8)\n",
    "regressor.fit(X_train, y_train)\n",
    "\n",
    "y_pred = regressor.predict(X_test)\n",
    "print(\"For {}\".format(0))\n",
    "print(\"Accuracy Score {}\".format(accuracy_score(transform(y_test), transform(y_pred))))\n",
    "print(\"Mean Squared Error: {}\\n\".format(mean_squared_error(y_test, y_pred)))"
   ]
  },
  {
   "cell_type": "code",
   "execution_count": null,
   "metadata": {},
   "outputs": [],
   "source": []
  }
 ],
 "metadata": {
  "kernelspec": {
   "display_name": "Reinforcment",
   "language": "python",
   "name": "reinforcment"
  },
  "language_info": {
   "codemirror_mode": {
    "name": "ipython",
    "version": 3
   },
   "file_extension": ".py",
   "mimetype": "text/x-python",
   "name": "python",
   "nbconvert_exporter": "python",
   "pygments_lexer": "ipython3",
   "version": "3.6.6"
  }
 },
 "nbformat": 4,
 "nbformat_minor": 2
}
